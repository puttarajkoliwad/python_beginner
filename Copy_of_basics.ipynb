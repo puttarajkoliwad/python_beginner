{
  "cells": [
    {
      "cell_type": "markdown",
      "metadata": {
        "id": "view-in-github",
        "colab_type": "text"
      },
      "source": [
        "<a href=\"https://colab.research.google.com/github/puttarajkoliwad/python_beginner/blob/master/Copy_of_basics.ipynb\" target=\"_parent\"><img src=\"https://colab.research.google.com/assets/colab-badge.svg\" alt=\"Open In Colab\"/></a>"
      ]
    },
    {
      "cell_type": "markdown",
      "metadata": {
        "id": "PKqcEVcWuEaH"
      },
      "source": [
        "# Python Data types\n",
        "\n",
        "###01) str\n",
        "'str' is the standard string type class in python\n",
        "\n",
        "- str concatenation '+' operator works b/w two 'str' instances only."
      ]
    },
    {
      "cell_type": "markdown",
      "source": [],
      "metadata": {
        "id": "DbIWrUYi4k6U"
      }
    },
    {
      "cell_type": "code",
      "source": [
        "name = \"iPhone 5s\"\n",
        "print(type(name))\n",
        "print(name)"
      ],
      "metadata": {
        "id": "F_qZAVTHuccM",
        "colab": {
          "base_uri": "https://localhost:8080/"
        },
        "outputId": "54d74216-4d93-420b-82ef-4b210aaf2cbe"
      },
      "execution_count": 9,
      "outputs": [
        {
          "output_type": "stream",
          "name": "stdout",
          "text": [
            "<class 'str'>\n",
            "iPhone 5s\n"
          ]
        }
      ]
    },
    {
      "cell_type": "markdown",
      "source": [
        "###02) float"
      ],
      "metadata": {
        "id": "zINYh4SMweic"
      }
    },
    {
      "cell_type": "code",
      "source": [
        "screen_size = 4.3\n",
        "print(type(screen_size))\n",
        "print(\"screen_size: {}\".format(screen_size))"
      ],
      "metadata": {
        "colab": {
          "base_uri": "https://localhost:8080/"
        },
        "id": "I1WF4PVtwE4t",
        "outputId": "d0e0476f-12a8-453c-b1f7-40b8d195c759"
      },
      "execution_count": 10,
      "outputs": [
        {
          "output_type": "stream",
          "name": "stdout",
          "text": [
            "<class 'float'>\n",
            "screen_size: 4.3\n"
          ]
        }
      ]
    },
    {
      "cell_type": "markdown",
      "source": [
        "###03) int\n",
        "for integer values"
      ],
      "metadata": {
        "id": "AY6hIcm8yRxT"
      }
    },
    {
      "cell_type": "code",
      "source": [
        "no_speakers = 3\n",
        "print(type(no_speakers))\n",
        "print(\"number of speakers: {}\".format(no_speakers))\n",
        "print(name + \" has \" + str(no_speakers) + \" speakers.\")"
      ],
      "metadata": {
        "colab": {
          "base_uri": "https://localhost:8080/"
        },
        "id": "Jvlua6oGyZTh",
        "outputId": "717b5e14-5015-474f-8449-10046955123b"
      },
      "execution_count": 11,
      "outputs": [
        {
          "output_type": "stream",
          "name": "stdout",
          "text": [
            "<class 'int'>\n",
            "number of speakers: 3\n",
            "iPhone 5s has 3 speakers.\n"
          ]
        }
      ]
    },
    {
      "cell_type": "code",
      "source": [
        "a = 3\n",
        "b = 2\n",
        "print(a+b, a-b, a/b, a//b, a*b, a**b, a%b)"
      ],
      "metadata": {
        "colab": {
          "base_uri": "https://localhost:8080/"
        },
        "id": "gV3u87yF1LfX",
        "outputId": "53976829-a258-4c76-8556-115acb2e9a42"
      },
      "execution_count": 12,
      "outputs": [
        {
          "output_type": "stream",
          "name": "stdout",
          "text": [
            "5 1 1.5 1 6 9 1\n"
          ]
        }
      ]
    },
    {
      "cell_type": "markdown",
      "source": [
        "###04) bool\n",
        "for Boolean values"
      ],
      "metadata": {
        "id": "G9LWucKs2k_L"
      }
    },
    {
      "cell_type": "code",
      "source": [
        "is_android = False\n",
        "print(type(is_android))\n",
        "print(\"is Android? \" + str(is_android))\n",
        "print(is_android == False and no_speakers > 1)"
      ],
      "metadata": {
        "colab": {
          "base_uri": "https://localhost:8080/"
        },
        "id": "RC5R7CA92tWu",
        "outputId": "e84e6c17-0ddf-4db5-eaa8-093e9cd3f3ca"
      },
      "execution_count": 13,
      "outputs": [
        {
          "output_type": "stream",
          "name": "stdout",
          "text": [
            "<class 'bool'>\n",
            "is Android? False\n",
            "True\n"
          ]
        }
      ]
    },
    {
      "cell_type": "markdown",
      "source": [
        "###05) None:\n",
        "`None` datatype is used to define **nil/null/undefined** data in python3\n",
        "    \n",
        "    Eg.: a = None"
      ],
      "metadata": {
        "id": "DnWH-3tC4dMT"
      }
    },
    {
      "cell_type": "markdown",
      "source": [
        "#Python Blocks(:)\n",
        "  - python blocks strictly follow indentation to identify start and end of a block.\n",
        "  - The beginning of a block is denoted by appending *colon(\":\")* at the end of starting statement.\n",
        "\n",
        "###01) Conditional statements:\n",
        "- if-else blocks:"
      ],
      "metadata": {
        "id": "ZBBva1-B3z2g"
      }
    },
    {
      "cell_type": "code",
      "source": [
        "if not is_android:\n",
        "  print(name + \" supports Android\")\n",
        "elif False:\n",
        "  print(\"This is how we write elsif\")\n",
        "else:\n",
        "  print(name + \" doesn't support Android\")\n",
        "\n",
        "condition = \"if\"\n",
        "if condition == \"if\":\n",
        "  print(\"'if' block\")\n",
        "elif condition == \"elif\":\n",
        "  print(\"'elif' block\")\n",
        "else:\n",
        "  print(\"'else' block\")"
      ],
      "metadata": {
        "colab": {
          "base_uri": "https://localhost:8080/"
        },
        "id": "NAUP1mzU4O5e",
        "outputId": "28cde0fe-3cdb-4d62-c1e1-5548b2cfddc8"
      },
      "execution_count": 14,
      "outputs": [
        {
          "output_type": "stream",
          "name": "stdout",
          "text": [
            "iPhone 5s supports Android\n",
            "'if' block\n"
          ]
        }
      ]
    },
    {
      "cell_type": "markdown",
      "source": [
        "- match-case blocks: These are the 'switch/when' parallels in python. (python3.10+)"
      ],
      "metadata": {
        "id": "xSIN2qO6OzjY"
      }
    },
    {
      "cell_type": "code",
      "source": [
        "# case_stmt = \"stmt1\"\n",
        "# match case_stmt:\n",
        "#   case \"stmt1\":\n",
        "#     print(\"case 1\")\n",
        "#   case \"stmt2\":\n",
        "#     print(\"case 2\")\n",
        "#   case _:\n",
        "#     print(\"default case\")"
      ],
      "metadata": {
        "id": "0IB4wsqvPKKl"
      },
      "execution_count": 15,
      "outputs": []
    },
    {
      "cell_type": "markdown",
      "source": [
        "###02) Python loops\n",
        "- for loop: the looping variable is **immutable** in for loop, just like in ruby"
      ],
      "metadata": {
        "id": "fQ7wEePSTuQk"
      }
    },
    {
      "cell_type": "code",
      "source": [
        "for i in range(5):\n",
        "  print(i, i**2)\n",
        "  if i == 2:\n",
        "    i += 3\n",
        "    print(\"i: \" + str(i))"
      ],
      "metadata": {
        "id": "CVjq7L8HT5Ho",
        "colab": {
          "base_uri": "https://localhost:8080/"
        },
        "outputId": "27385886-a162-4403-fe1c-f6894e38ad68"
      },
      "execution_count": 16,
      "outputs": [
        {
          "output_type": "stream",
          "name": "stdout",
          "text": [
            "0 0\n",
            "1 1\n",
            "2 4\n",
            "i: 5\n",
            "3 9\n",
            "4 16\n"
          ]
        }
      ]
    },
    {
      "cell_type": "markdown",
      "source": [
        "- while loop"
      ],
      "metadata": {
        "id": "RfPBiQd5VLr5"
      }
    },
    {
      "cell_type": "code",
      "source": [
        "i = 0\n",
        "while(i < 5):\n",
        "  print(i, i**2)\n",
        "  if(i==2):\n",
        "    i += 3\n",
        "  i += 1"
      ],
      "metadata": {
        "id": "m44Q4VPzVRjY",
        "colab": {
          "base_uri": "https://localhost:8080/"
        },
        "outputId": "d87932a2-7329-47fa-b8ed-976105a1fc9f"
      },
      "execution_count": 17,
      "outputs": [
        {
          "output_type": "stream",
          "name": "stdout",
          "text": [
            "0 0\n",
            "1 1\n",
            "2 4\n"
          ]
        }
      ]
    },
    {
      "cell_type": "markdown",
      "source": [
        "# Function Definition in Python\n",
        "- A function definition starts with **'def'** key word in python, and follows the same rules that apply to every other block for parsing.\n",
        "- the function call should be initiated seperately when needed unlike javascript self-invoking functions.\n",
        "- the returning values of the function should be explicitly specified using ***'return'*** keyword.\n",
        "- **optional** parameters of the function should be assigned the **default** values in the function definition using the **'='** operator.\n",
        "- ***function-hints*** can be provided to each function by using 3 double quotes(**\" \" \"** *hint text* **\" \" \"**)"
      ],
      "metadata": {
        "id": "Z-lkEEknWJkp"
      }
    },
    {
      "cell_type": "code",
      "source": [
        "def my_function():\n",
        "  print(\"inside my_function block\")\n",
        "my_function()\n",
        "\n",
        "def area_of_rectangle(len, wid = None):\n",
        "  \"\"\"This is the hint text for the function and can be written anywhere inside the function block\"\"\"\n",
        "  if not wid:\n",
        "    return len * len\n",
        "  return len * wid\n",
        "my_area = area_of_rectangle(3, 4)\n",
        "my_square_area = area_of_rectangle(5)\n",
        "print(my_area)\n",
        "print(my_square_area)\n",
        "area_of_rectangle?"
      ],
      "metadata": {
        "id": "vb_aFDleWree"
      },
      "execution_count": 42,
      "outputs": []
    },
    {
      "cell_type": "markdown",
      "source": [
        "# Advanced Data Structures in Python\n",
        "###01) Lists (list)\n",
        "    - Lists are heterogenic collection of objects, with variable size\n",
        "    - similar to Arrays in Javascript, Ruby and ArrayLists in Java"
      ],
      "metadata": {
        "id": "S2e8Y-7Daj9Z"
      }
    },
    {
      "cell_type": "code",
      "source": [
        "my_list = [name, screen_size, no_speakers, is_android]\n",
        "print(type(my_list))\n",
        "my_list2 = my_list[:] # speard operator\n",
        "my_list2.append(\"appended element\") # appending values to the list\n",
        "list3 = my_list + my_list2 # concatenation of lists\n",
        "print(my_list)\n",
        "print(my_list2)\n",
        "print(list3)\n",
        "print(list3[2:4]) # accessing a range of list elements, exclusive of range outer bound(4 here)\n",
        "print()\n",
        "# Iterating over lists\n",
        "print((\"=\" * 6) + \" Iterating over lists\" + (\"=\" * 6))\n",
        "for element in my_list:\n",
        "  print(element)"
      ],
      "metadata": {
        "id": "NIDSyAotfXs9",
        "colab": {
          "base_uri": "https://localhost:8080/"
        },
        "outputId": "c4c0c4ff-0b96-457a-e9e8-918cc9abb97c"
      },
      "execution_count": 43,
      "outputs": [
        {
          "output_type": "stream",
          "name": "stdout",
          "text": [
            "<class 'list'>\n",
            "['iPhone 5s', 4.3, 3, False]\n",
            "['iPhone 5s', 4.3, 3, False, 'appended element']\n",
            "['iPhone 5s', 4.3, 3, False, 'iPhone 5s', 4.3, 3, False, 'appended element']\n",
            "[3, False]\n",
            "\n",
            "====== Iterating over lists======\n",
            "iPhone 5s\n",
            "4.3\n",
            "3\n",
            "False\n"
          ]
        }
      ]
    },
    {
      "cell_type": "markdown",
      "source": [
        "- **map**: 'map' function takes a lambda function and a list and performs lambda operation on each element of the list and stores the result as a **map** object.\n",
        "      map(lambda, list)"
      ],
      "metadata": {
        "id": "vBwhGrUZjt6i"
      }
    },
    {
      "cell_type": "code",
      "source": [
        "lam = lambda x: x**2\n",
        "print(lam(2))\n",
        "\n",
        "a = list(range(5))\n",
        "map_result = map(lam, a)\n",
        "print(map_result)\n",
        "print(list(map_result))"
      ],
      "metadata": {
        "id": "wRXWVf8rkOO0",
        "colab": {
          "base_uri": "https://localhost:8080/"
        },
        "outputId": "62e984a9-0232-45f6-bb00-c3fa182582af"
      },
      "execution_count": 44,
      "outputs": [
        {
          "output_type": "stream",
          "name": "stdout",
          "text": [
            "4\n",
            "<map object at 0x7a91ee535ba0>\n",
            "[0, 1, 4, 9, 16]\n"
          ]
        }
      ]
    },
    {
      "cell_type": "markdown",
      "source": [
        "- **filter**: 'filter' function is used to select required elements of the list.\n",
        "  - It takes a lambda function and a list and filters list elements based on lambda selection.\n",
        "  - It stores the result into **filter** object.\n",
        "        filter(lambda, list)\n",
        "      "
      ],
      "metadata": {
        "id": "qLj7N1l2l4Fw"
      }
    },
    {
      "cell_type": "code",
      "source": [
        "filter_result = filter(lambda x: x%2 == 0, a)\n",
        "print(filter_result)\n",
        "print(list(filter_result))"
      ],
      "metadata": {
        "id": "7owmI_otoXm_",
        "colab": {
          "base_uri": "https://localhost:8080/"
        },
        "outputId": "d5435e3a-faaa-498b-c98f-e98fe25136ca"
      },
      "execution_count": 45,
      "outputs": [
        {
          "output_type": "stream",
          "name": "stdout",
          "text": [
            "<filter object at 0x7a91ee40bc70>\n",
            "[0, 2, 4]\n"
          ]
        }
      ]
    },
    {
      "cell_type": "markdown",
      "source": [
        "###02) Tuples\n",
        "Tuples are the 'immutable' lists. Once initiated their values can **NOT** be changed. Elsewise they are very much similar to lists.\n",
        "- Tuples are comparative faster compared to lists since they are immutable.\n",
        "- **tuple** elements are enclosed within 'parenthesis'\n",
        "- support dynamic access of elements"
      ],
      "metadata": {
        "id": "vpesmN5kvkzj"
      }
    },
    {
      "cell_type": "code",
      "source": [
        "tuple1 = (name, screen_size, is_android)\n",
        "print(type(tuple1))\n",
        "print(tuple1)\n",
        "print(tuple1[2])\n",
        "# tuple1[2] = True # error here. Tuple doesnt support assignment operation!\n",
        "tuple2 = tuple(list3)\n",
        "print(tuple2)\n",
        "\n",
        "# traversing\n",
        "for data in tuple1:\n",
        "  print(data)"
      ],
      "metadata": {
        "id": "8kJFGr4dwWJ7",
        "colab": {
          "base_uri": "https://localhost:8080/"
        },
        "outputId": "849f8299-db09-46fa-f47d-e1babf946d73"
      },
      "execution_count": 52,
      "outputs": [
        {
          "output_type": "stream",
          "name": "stdout",
          "text": [
            "<class 'tuple'>\n",
            "('iPhone 5s', 4.3, False)\n",
            "False\n",
            "('iPhone 5s', 4.3, 3, False, 'iPhone 5s', 4.3, 3, False, 'appended element')\n",
            "iPhone 5s\n",
            "4.3\n",
            "False\n"
          ]
        }
      ]
    },
    {
      "cell_type": "code",
      "source": [
        "# proof that tuples are faster than lists\n",
        "import time\n",
        "squares = lambda x: x**2\n",
        "\n",
        "list1 = list(range(1000000))\n",
        "l0 = time.time()\n",
        "map(squares, list1)\n",
        "l1 = time.time()\n",
        "print(\"lists time:\", (l1 - l0))\n",
        "\n",
        "tuple1 = tuple(range(1000000))\n",
        "t0 = time.time()\n",
        "map(squares, tuple1)\n",
        "t1 = time.time()\n",
        "print(\"tuples time:\", (t1 - t0))\n",
        "print(((t1-t0) - (l1 - l0)))"
      ],
      "metadata": {
        "id": "gikQ686dy1ri",
        "colab": {
          "base_uri": "https://localhost:8080/"
        },
        "outputId": "ae199c14-df77-469b-eed4-f8e3f8ab90ad"
      },
      "execution_count": 7,
      "outputs": [
        {
          "output_type": "stream",
          "name": "stdout",
          "text": [
            "lists time: 9.179115295410156e-05\n",
            "tuples time: 6.866455078125e-05\n",
            "-2.3126602172851562e-05\n"
          ]
        }
      ]
    },
    {
      "cell_type": "markdown",
      "source": [
        "###03) Sets (set)\n",
        "Sets are collection of unique elements. Sets **DO NOT** support dynamic access just like in java.\n",
        "- Sets are enclosed within 'curly braces{}'\n",
        "- new(), add(elem), update(another_set), remove(elem) are few CRUD methods of sets\n",
        "- sets are comparatively faster than lists when trying to check presence of an element in it."
      ],
      "metadata": {
        "id": "hHBC-4ip0lMs"
      }
    },
    {
      "cell_type": "code",
      "source": [
        "set1 = set(my_list)\n",
        "set1.add(4.3) #append element to the set\n",
        "set2 = {\"new2\"}\n",
        "set1.add(\"new element\")\n",
        "print(set1)\n",
        "set1.update(set2) # concatenates two sets, mutates the original set.\n",
        "print(set1)\n",
        "set1.remove(\"new2\") # removes element from the set\n",
        "print(set1)\n",
        "\n",
        "t0 = time.time()\n",
        "print(87 in list1)\n",
        "print(898987 in list1)\n",
        "print(8987987987 in list1)\n",
        "t1 = time.time()\n",
        "print(\"lists: \", (t1 - t0))\n",
        "\n",
        "set1 = set(range(1000000))\n",
        "st0 = time.time()\n",
        "print(87 in set1)\n",
        "print(898987 in set1)\n",
        "print(8987987987 in set1)\n",
        "st1 = time.time()\n",
        "print(\"sets: \", (st1 - st0))"
      ],
      "metadata": {
        "id": "HSlnc6s01w3a",
        "colab": {
          "base_uri": "https://localhost:8080/"
        },
        "outputId": "882060fd-7835-45b8-9724-43b5dd3e15f4"
      },
      "execution_count": 48,
      "outputs": [
        {
          "output_type": "stream",
          "name": "stdout",
          "text": [
            "{False, 3, 4.3, 'iPhone 5s', 'new element'}\n",
            "{False, 3, 4.3, 'iPhone 5s', 'new2', 'new element'}\n",
            "{False, 3, 4.3, 'iPhone 5s', 'new element'}\n",
            "True\n",
            "True\n",
            "False\n",
            "lists:  0.039383649826049805\n",
            "True\n",
            "True\n",
            "False\n",
            "sets:  0.0003952980041503906\n"
          ]
        }
      ]
    },
    {
      "cell_type": "code",
      "source": [],
      "metadata": {
        "id": "zX0T3y_L48yC"
      },
      "execution_count": 48,
      "outputs": []
    },
    {
      "cell_type": "markdown",
      "source": [
        "###04) Dictionaries (dict):\n",
        "Dicts are key-value paired datatypes in python. Like Hash in ruby.\n",
        "\n",
        "**`dict.keys(), dict.values(), dict.items()`** are a few major functions in dicts.\n",
        "\n",
        "- can be initialized with empty braces `{}`\n",
        "- entries can be accessed using `[]` with key names.\n",
        "- Symbols are **NOT** allowed!\n"
      ],
      "metadata": {
        "id": "wbr6jcs82Z9c"
      }
    },
    {
      "cell_type": "code",
      "source": [
        "phone_details = {\"size\": \"4.3\", \"color\" : \"black\"}\n",
        "phone_details[\"name\"] = 'iPhone'\n",
        "print(phone_details)\n",
        "print(phone_details[\"name\"])"
      ],
      "metadata": {
        "id": "sOahGHWT4uDv",
        "colab": {
          "base_uri": "https://localhost:8080/"
        },
        "outputId": "1710dfb3-1c6d-43fc-abee-3925a6a92099"
      },
      "execution_count": 49,
      "outputs": [
        {
          "output_type": "stream",
          "name": "stdout",
          "text": [
            "{'size': '4.3', 'color': 'black', 'name': 'iPhone'}\n",
            "iPhone\n"
          ]
        }
      ]
    },
    {
      "cell_type": "code",
      "source": [],
      "metadata": {
        "id": "EDmIw9jy4wu3"
      },
      "execution_count": 49,
      "outputs": []
    },
    {
      "cell_type": "markdown",
      "source": [
        "#Python Packages"
      ],
      "metadata": {
        "id": "PIxG4tQL56tP"
      }
    },
    {
      "cell_type": "markdown",
      "source": [
        "- `import` keyword is used to import modules into other files.\n",
        "- `import module_name`\n",
        "- `import module_name as alias_name`\n",
        "- `from module_name import function_name`\n",
        "\n",
        "These are all valid usages of `import` keyword."
      ],
      "metadata": {
        "id": "83wfqk3t8K1v"
      }
    },
    {
      "cell_type": "code",
      "source": [
        "!echo 'def module_function(num=None):' > foreign_file.py\n",
        "!echo \"    return 'This is from other module'\" >> foreign_file.py\n",
        "!cat foreign_file.py\n",
        "!ls"
      ],
      "metadata": {
        "colab": {
          "base_uri": "https://localhost:8080/"
        },
        "id": "0L41D55C2yKJ",
        "outputId": "26f94772-4c59-46cd-e6df-e260c7b8f866"
      },
      "execution_count": 8,
      "outputs": [
        {
          "output_type": "stream",
          "name": "stdout",
          "text": [
            "def module_function(num=None):\n",
            "    return 'This is from other module'\n",
            "foreign_file.py  sample_data\n"
          ]
        }
      ]
    },
    {
      "cell_type": "code",
      "source": [
        "import math\n",
        "print(math.sqrt(4))\n",
        "\n",
        "import foreign_file as ff\n",
        "print(ff.module_function(4))"
      ],
      "metadata": {
        "colab": {
          "base_uri": "https://localhost:8080/"
        },
        "id": "-9kRUtRj9Bvb",
        "outputId": "82192c75-6af6-421d-dcd6-3cd790508a60"
      },
      "execution_count": 9,
      "outputs": [
        {
          "output_type": "stream",
          "name": "stdout",
          "text": [
            "2.0\n",
            "This is from other module\n"
          ]
        }
      ]
    },
    {
      "cell_type": "markdown",
      "source": [],
      "metadata": {
        "id": "f2XOsrE7ft8r"
      }
    },
    {
      "cell_type": "markdown",
      "source": [
        "# File Handling in Python:\n",
        "####01) open():\n",
        "`open(file_path, operation_mode)` will open the file in specified `operation_mode` and allows us to perform file operations. Avaiable modes are `'r':read, 'w':write, 'a':append`\n",
        "\n",
        "`f1 = open('my_csv.csv', 'r')`\n",
        "\n",
        "####02) file.readline():\n",
        "`f1.readline()` will read one line from the buffer.\n",
        "\n",
        "####03) file.read():\n",
        "`f1.read()` read all the content of file in one go.\n",
        "\n",
        "####04) file.write('data'):\n",
        "`f1.write('data')` will allow us to write data to a file when the file is opened in **'w'** mode. It **won't** write to new line by default. It will just continue in the same line.\n",
        "\n",
        "####05) file.close():\n",
        "`f1.close()` will close the file after which no read/write can be performed on that file."
      ],
      "metadata": {
        "id": "On-Dkdn0fwf7"
      }
    },
    {
      "cell_type": "code",
      "source": [
        "!wget https://media.githubusercontent.com/media/datablist/sample-csv-files/main/files/organizations/organizations-100.csv -o 'organizations.csv'"
      ],
      "metadata": {
        "id": "maKZIVrpiCNe"
      },
      "execution_count": 10,
      "outputs": []
    },
    {
      "cell_type": "code",
      "source": [
        "f1 = open('organizations-100.csv', 'r')\n",
        "s = f1.readline()\n",
        "print(s.split(\",\"))\n",
        "full_text = f1.read()\n",
        "f1.close()\n",
        "\n",
        "with open('new_file.txt', 'w') as file:\n",
        "  file.write(\"This is a new line. \")\n",
        "  file.write(\"This will continue in the same line...\\n\")\n",
        "  # file.append(\"Trying to add new line directly\") #error here\n",
        "\n",
        "!cat new_file.txt\n",
        "\n",
        "with open('organizations-100.csv', 'r') as file:\n",
        "  for line in file:\n",
        "    for word in line.split(\",\"):\n",
        "      # print(word)\n",
        "      break"
      ],
      "metadata": {
        "colab": {
          "base_uri": "https://localhost:8080/"
        },
        "id": "SOtB1SxCijs7",
        "outputId": "544fdc5c-9b60-4637-86c6-a04cfdebb9ab"
      },
      "execution_count": 29,
      "outputs": [
        {
          "output_type": "stream",
          "name": "stdout",
          "text": [
            "['Index', 'Organization Id', 'Name', 'Website', 'Country', 'Description', 'Founded', 'Industry', 'Number of employees\\n']\n",
            "This is a new line. This will continue in the same line...\n"
          ]
        }
      ]
    },
    {
      "cell_type": "code",
      "source": [],
      "metadata": {
        "id": "o50PEpdNEIrE"
      },
      "execution_count": 29,
      "outputs": []
    },
    {
      "cell_type": "markdown",
      "source": [
        "#OOPs in Python:\n",
        "##01) Classes in Python:\n",
        "- `class` keyword is used to create classes in python\n",
        "- CamelCase is followed for python classes.\n",
        "- `__init__(self, params):` is used as the constructor method/initializer.\n",
        "- `__str(self)__:` is like toString() of java which should return a string.\n",
        "- **NO** need of `new` keyword. You could just invoke class name with params just like any other function call and it will create an instance of that class.\n",
        "\n",
        "  `my_instance = MyClass(positional_arg)`\n",
        "- just like in Javascript, we can assign **dynamic properties** for instances of objects in python3 also.\n",
        "\n",
        "  `my_instance.some_random_property = \"some_random_value\"`\n",
        "  `print(my_instance.some_random_property) #=> \"some_random_value\"`"
      ],
      "metadata": {
        "id": "kBqX4FpcEJ1A"
      }
    },
    {
      "cell_type": "code",
      "source": [
        "class BasePhone:\n",
        "  \"\"\"This is a sample phone class...\"\"\"\n",
        "  def __init__(self, name, is_android = True, screen_size = 4.3):\n",
        "    self.name = name\n",
        "    self.is_android = is_android\n",
        "    self.screen_size = screen_size\n",
        "\n",
        "  def __str__(self):\n",
        "    return self.name + \" \" + str(self.is_android) + \" \" + str(self.screen_size)\n",
        "\n",
        "my_phone = BasePhone(\"Honor\",True,5.2)\n",
        "print(type(my_phone))\n",
        "print(my_phone.__doc__)\n",
        "print(my_phone)"
      ],
      "metadata": {
        "colab": {
          "base_uri": "https://localhost:8080/"
        },
        "id": "v66r7V8DEVNE",
        "outputId": "bc3dace1-b9c7-438a-dddd-ce5cd3e4df9d"
      },
      "execution_count": 30,
      "outputs": [
        {
          "output_type": "stream",
          "name": "stdout",
          "text": [
            "<class '__main__.BasePhone'>\n",
            "This is a sample phone class...\n",
            "Honor True 5.2\n"
          ]
        }
      ]
    },
    {
      "cell_type": "markdown",
      "source": [
        "##02) Inheritance:\n",
        "Syntactically inheritance in python is achieved in following manner `class ChildClass(ParentClass):`."
      ],
      "metadata": {
        "id": "XOqI4jUNPWDB"
      }
    },
    {
      "cell_type": "code",
      "source": [
        "class IPhone(BasePhone):\n",
        "  \"\"\"This is for iPhones and this class extends BasePhone\"\"\"\n",
        "  def __init__(self, name):\n",
        "    BasePhone.__init__(self, name, False, 4)\n",
        "\n",
        "my_iphone = IPhone(\"Apple14\")\n",
        "my_iphone.random_prop = \"random value\" #works perfectly fine\n",
        "print(type(my_iphone))\n",
        "print(my_iphone.__doc__)\n",
        "print(my_iphone)\n",
        "print(my_iphone.random_prop)\n"
      ],
      "metadata": {
        "colab": {
          "base_uri": "https://localhost:8080/"
        },
        "id": "YkSLQL1qPzj9",
        "outputId": "9538d3f5-8f03-40d3-f5b9-1c809d9334c9"
      },
      "execution_count": 31,
      "outputs": [
        {
          "output_type": "stream",
          "name": "stdout",
          "text": [
            "<class '__main__.IPhone'>\n",
            "This is for iPhones and this class extends BasePhone\n",
            "Apple14 False 4\n",
            "random value\n"
          ]
        }
      ]
    },
    {
      "cell_type": "markdown",
      "source": [
        "# NumPy: https://numpy.org/doc/stable/reference/index.html#reference\n",
        "- `NumPy` stands for NumericalsPy. This library as the name suggests a bundle of Numerical functions that make the study of **deep-learning** much easier.\n",
        "\n",
        "  `import numpy as np` is a common way of importing NumPy.\n"
      ],
      "metadata": {
        "id": "SgDGcR9L-CCZ"
      }
    },
    {
      "cell_type": "code",
      "source": [
        "# https://numpy.org/doc/stable/reference/index.html#reference\n",
        "import numpy as np\n",
        "\n",
        "X = np.array([1, 2, 3]) #arrays of np are ndarray meaning n-dimension-array\n",
        "print(X)\n",
        "Y = np.array([1, 2, 3], float) # converts the array elements to float types\n",
        "print(Y)\n",
        "print(type(X))\n",
        "print(X.shape) # prints the dimensions of the array as tuple (3,) in this case\n",
        "X = np.random.random((3,4))\n",
        "Y = X.T # Transpose the matrix (2D array here)\n",
        "print(X)\n",
        "print(Y)\n",
        "print(Y[1, 0:2]) # for [i, j:k] returns i'th row from 'j' to 'k'. 'j' inclusive, 'k' exclusive\n",
        "Y1 = Y.reshape(6, 2) # ndarray.reshape(rows, columns) reshape the matrix into given rows and columns. throws error if new rows*columns exceeds previous number of cells\n",
        "print(Y1)\n",
        "Z = np.eye(3, 3, 0, int) # creates an identity matrix of (M*N*K). The datatype will be float by default.\n",
        "print(Z)\n",
        "X = np.ones((3, 4), int) # creates a matrix of M*N with all 1s. Use np.zeros for matrix of 0s.\n",
        "print(X)"
      ],
      "metadata": {
        "colab": {
          "base_uri": "https://localhost:8080/"
        },
        "id": "aKe7KDPW-yeZ",
        "outputId": "1de05406-c23a-46ca-eed0-f5b4b7098723"
      },
      "execution_count": 11,
      "outputs": [
        {
          "output_type": "stream",
          "name": "stdout",
          "text": [
            "[1 2 3]\n",
            "[1. 2. 3.]\n",
            "<class 'numpy.ndarray'>\n",
            "(3,)\n",
            "[[0.66385521 0.33300446 0.60195239 0.90297372]\n",
            " [0.50124549 0.39371925 0.93139963 0.4017406 ]\n",
            " [0.26795395 0.04168751 0.27651152 0.36269565]]\n",
            "[[0.66385521 0.50124549 0.26795395]\n",
            " [0.33300446 0.39371925 0.04168751]\n",
            " [0.60195239 0.93139963 0.27651152]\n",
            " [0.90297372 0.4017406  0.36269565]]\n",
            "[0.33300446 0.39371925]\n",
            "[[0.66385521 0.50124549]\n",
            " [0.26795395 0.33300446]\n",
            " [0.39371925 0.04168751]\n",
            " [0.60195239 0.93139963]\n",
            " [0.27651152 0.90297372]\n",
            " [0.4017406  0.36269565]]\n",
            "[[1 0 0]\n",
            " [0 1 0]\n",
            " [0 0 1]]\n",
            "[[1 1 1 1]\n",
            " [1 1 1 1]\n",
            " [1 1 1 1]]\n"
          ]
        }
      ]
    },
    {
      "cell_type": "code",
      "source": [
        "# https://numpy.org/doc/stable/reference/index.html#reference\n",
        "import numpy as np\n",
        "\n",
        "A = np.arange(5) # creates an array till range of 0-5. 5 excluded.\n",
        "B = np.arange(5)\n",
        "\n",
        "print(A+B) # point wise addition\n",
        "print(A-B) # point wise substraction\n",
        "print(A*B) # point wise multiplication. This is NOT same as matrix multiplication.\n",
        "\n",
        "print(\"scalar broadcasting(A+1):\", A, \"=>\", A+1) # A + 1, broadcasting +1 to all the elements of A. Here A is considered a vector entity and 1 is a scalar entity.\n",
        "\n",
        "X = np.floor(np.random.random((3, 4))*10)\n",
        "print(X)"
      ],
      "metadata": {
        "colab": {
          "base_uri": "https://localhost:8080/"
        },
        "id": "OaB8EMiL2_rA",
        "outputId": "8644f64c-7b43-4fc5-f709-c7237b81cfb7"
      },
      "execution_count": 1,
      "outputs": [
        {
          "output_type": "stream",
          "name": "stdout",
          "text": [
            "[0 2 4 6 8]\n",
            "[0 0 0 0 0]\n",
            "[ 0  1  4  9 16]\n",
            "scalar broadcasting(A+1): [0 1 2 3 4] => [1 2 3 4 5]\n",
            "[[2. 6. 5. 5.]\n",
            " [0. 2. 1. 5.]\n",
            " [9. 1. 8. 2.]]\n"
          ]
        }
      ]
    },
    {
      "cell_type": "code",
      "source": [
        "import numpy as np\n",
        "# Vector multiplications.\n",
        "u = [1, 2, 3]\n",
        "v = [-1, 0, 1]\n",
        "\n",
        "# 01) Inner product\n",
        "inn = np.inner(u,v) # point wise multiply u and v and then sum it up.\n",
        "print(inn)\n",
        "\n",
        "# 02) Outer product\n",
        "outr = np.outer(u,v)\n",
        "print(outr)\n",
        "\n",
        "# 03) Dot product. Yields actual matrix multiplication(OR vector cross product) with all applicable rules of it.\n",
        "A = np.ones((2, 3))\n",
        "B = np.ones((3,2))\n",
        "print(A)\n",
        "print(B)\n",
        "dott = np.dot(A,B)\n",
        "print(\"dot product:\", dott)\n",
        "print(\"dot product of transposes:\", np.dot(A.T, B.T)) # A * B = B` * A`\n",
        "\n",
        "C = np.array([[1, 2, 3], [4, 5, 6]])\n",
        "D = np.array([[7, 8, 9],[10, 11, 12]])\n",
        "# cross_product = np.dot(C, D) # throws error, C's column-size(3) does not match D's row-size(2)\n",
        "cross_product = np.dot(C, D.T)\n",
        "print(\"cross_product(`np.dot` function actually):\", cross_product)\n",
        "print(A.sum()) # prints sum of all the elements of A\n",
        "print(\"columns sum:\", A.sum(axis = 0)) # prints sum of elements of each column\n",
        "print(\"rows sum:\", A.sum(axis = 1)) # prints sum of elements of each row"
      ],
      "metadata": {
        "colab": {
          "base_uri": "https://localhost:8080/"
        },
        "id": "4_ACy8H89YCH",
        "outputId": "1abbf2ec-7d32-40bb-bb7f-4b25ee7d67e3"
      },
      "execution_count": 9,
      "outputs": [
        {
          "output_type": "stream",
          "name": "stdout",
          "text": [
            "2\n",
            "[[-1  0  1]\n",
            " [-2  0  2]\n",
            " [-3  0  3]]\n",
            "[[1. 1. 1.]\n",
            " [1. 1. 1.]]\n",
            "[[1. 1.]\n",
            " [1. 1.]\n",
            " [1. 1.]]\n",
            "dot product: [[3. 3.]\n",
            " [3. 3.]]\n",
            "dot product of transposes: [[2. 2. 2.]\n",
            " [2. 2. 2.]\n",
            " [2. 2. 2.]]\n",
            "cross_product(`np.dot` function actually): [[ 50  68]\n",
            " [122 167]]\n",
            "6.0\n",
            "columns sum: [2. 2. 2.]\n",
            "rows sum: [3. 3.]\n"
          ]
        }
      ]
    },
    {
      "cell_type": "markdown",
      "source": [
        "# Plotting in python(`matplotlib.pyplot`):\n",
        "`matplotlib.pyplot` is a popular plotting library available in python.\n",
        "\n"
      ],
      "metadata": {
        "id": "yUoMd_jb4pl9"
      }
    },
    {
      "cell_type": "code",
      "source": [
        "import matplotlib.pyplot as plt\n",
        "X = np.random.random([10, 1])\n",
        "print(X)\n",
        "\n",
        "# plt.plot(X)\n",
        "# plt.plot(X, \"*\")\n",
        "plt.plot(X, \"*-\") # this is equivalent of above two lines\n",
        "# plt.show() # plt.plot() will return the plot object along with the plot, and plt.show() will only display the plot. Observe Line2D object above the plot pic"
      ],
      "metadata": {
        "colab": {
          "base_uri": "https://localhost:8080/",
          "height": 626
        },
        "id": "mHR6bb625SUF",
        "outputId": "9d13f605-fc6a-433a-a22c-b2f16b7e1b78"
      },
      "execution_count": 27,
      "outputs": [
        {
          "output_type": "stream",
          "name": "stdout",
          "text": [
            "[[0.08424302]\n",
            " [0.19067028]\n",
            " [0.13749983]\n",
            " [0.14722898]\n",
            " [0.11080895]\n",
            " [0.48673015]\n",
            " [0.27627042]\n",
            " [0.66293311]\n",
            " [0.91142037]\n",
            " [0.5157554 ]]\n"
          ]
        },
        {
          "output_type": "execute_result",
          "data": {
            "text/plain": [
              "[<matplotlib.lines.Line2D at 0x7f8150714880>]"
            ]
          },
          "metadata": {},
          "execution_count": 27
        },
        {
          "output_type": "display_data",
          "data": {
            "text/plain": [
              "<Figure size 640x480 with 1 Axes>"
            ],
            "image/png": "[encoded data removed]"
          },
          "metadata": {}
        }
      ]
    },
    {
      "cell_type": "code",
      "source": [
        "import numpy as np\n",
        "import matplotlib.pyplot as plt\n",
        "\n",
        "x = np.linspace(0, 10, 100)\n",
        "y = np.power(x, 0.5)\n",
        "plt.plot(x, y, \"+\")\n",
        "plt.show()"
      ],
      "metadata": {
        "id": "Rf7md4Cf5wF0",
        "colab": {
          "base_uri": "https://localhost:8080/",
          "height": 430
        },
        "outputId": "d3556e3a-f800-45da-cbfc-785ff72f0777"
      },
      "execution_count": 31,
      "outputs": [
        {
          "output_type": "display_data",
          "data": {
            "text/plain": [
              "<Figure size 640x480 with 1 Axes>"
            ],
            "image/png": "[encoded data removed]"
          },
          "metadata": {}
        }
      ]
    }
  ],
  "metadata": {
    "language_info": {
      "name": "python"
    },
    "orig_nbformat": 4,
    "colab": {
      "provenance": [],
      "include_colab_link": true
    },
    "kernelspec": {
      "name": "python3",
      "display_name": "Python 3"
    }
  },
  "nbformat": 4,
  "nbformat_minor": 0
}